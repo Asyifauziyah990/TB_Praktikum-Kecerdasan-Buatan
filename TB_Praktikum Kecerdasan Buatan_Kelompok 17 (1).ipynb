{
  "nbformat": 4,
  "nbformat_minor": 0,
  "metadata": {
    "colab": {
      "provenance": []
    },
    "kernelspec": {
      "name": "python3",
      "display_name": "Python 3"
    },
    "language_info": {
      "name": "python"
    }
  },
  "cells": [
    {
      "cell_type": "code",
      "execution_count": null,
      "metadata": {
        "id": "7JCt1P5cShVz"
      },
      "outputs": [],
      "source": [
        "import numpy as np\n",
        "import pandas as pd \n",
        "import matplotlib.pyplot as plt\n"
      ]
    },
    {
      "cell_type": "code",
      "source": [],
      "metadata": {
        "id": "_crYhM72R6SX"
      },
      "execution_count": null,
      "outputs": []
    },
    {
      "cell_type": "code",
      "source": [
        "import os\n",
        "for dirname, _, filenames in os.walk('/kaggle/input'):\n",
        "    for filename in filenames:\n",
        "        print(os.path.join(dirname, filename))"
      ],
      "metadata": {
        "id": "EyNYnYYtS5Bp"
      },
      "execution_count": null,
      "outputs": []
    },
    {
      "cell_type": "markdown",
      "source": [
        "Importing the Required Libraries"
      ],
      "metadata": {
        "id": "-S-wTIaVT5VW"
      }
    },
    {
      "cell_type": "code",
      "source": [
        "import pandas as pd\n",
        "import numpy as np\n",
        "from sklearn import tree\n",
        "from sklearn.metrics import accuracy_score\n",
        "from sklearn.model_selection import train_test_split\n",
        "from sklearn.tree import DecisionTreeClassifier"
      ],
      "metadata": {
        "id": "Db_F9kdiS_tX"
      },
      "execution_count": null,
      "outputs": []
    },
    {
      "cell_type": "code",
      "source": [
        "data = pd.read_csv('Daily_Weather_Dataset.csv')"
      ],
      "metadata": {
        "id": "g82bpHuzTIDg"
      },
      "execution_count": null,
      "outputs": []
    },
    {
      "cell_type": "code",
      "source": [
        "data.columns"
      ],
      "metadata": {
        "colab": {
          "base_uri": "https://localhost:8080/"
        },
        "id": "0lQvWGFMTTUU",
        "outputId": "45ff95d0-fb29-4b98-f5c0-7164b89c7f10"
      },
      "execution_count": null,
      "outputs": [
        {
          "output_type": "execute_result",
          "data": {
            "text/plain": [
              "Index(['number', 'air_pressure_9am', 'air_temp_9am', 'avg_wind_direction_9am',\n",
              "       'avg_wind_speed_9am', 'max_wind_direction_9am', 'max_wind_speed_9am',\n",
              "       'rain_accumulation_9am', 'rain_duration_9am', 'relative_humidity_9am',\n",
              "       'relative_humidity_3pm'],\n",
              "      dtype='object')"
            ]
          },
          "metadata": {},
          "execution_count": 223
        }
      ]
    },
    {
      "cell_type": "code",
      "source": [
        "#Glimpse at Data\n",
        "data"
      ],
      "metadata": {
        "colab": {
          "base_uri": "https://localhost:8080/",
          "height": 488
        },
        "id": "66Z3Pl9rTXA4",
        "outputId": "4aba1ff2-809b-450e-e044-fce9d0926909"
      },
      "execution_count": null,
      "outputs": [
        {
          "output_type": "execute_result",
          "data": {
            "text/plain": [
              "      number  air_pressure_9am  air_temp_9am  avg_wind_direction_9am  \\\n",
              "0          0        917.060000     74.822000              271.100000   \n",
              "1          1        918.347688     71.403843              100.935179   \n",
              "2          2        923.040000     60.638000               51.000000   \n",
              "3          3        920.502751     70.138895              198.832133   \n",
              "4          4        921.160000     44.294000              277.800000   \n",
              "...      ...               ...           ...                     ...   \n",
              "1090    1090        918.900000     63.104000              192.900000   \n",
              "1091    1091        918.710000     49.568000              241.600000   \n",
              "1092    1092        916.600000     71.096000              189.300000   \n",
              "1093    1093        912.600000     58.406000              172.700000   \n",
              "1094    1094        921.530000     77.702000               97.100000   \n",
              "\n",
              "      avg_wind_speed_9am  max_wind_direction_9am  max_wind_speed_9am  \\\n",
              "0               2.080354              295.400000            2.863283   \n",
              "1               2.443009              140.471549            3.533324   \n",
              "2              17.067852               63.700000           22.100967   \n",
              "3               4.337363              211.203341            5.190045   \n",
              "4               1.856660              136.500000            2.863283   \n",
              "...                  ...                     ...                 ...   \n",
              "1090            3.869906              207.300000            5.212070   \n",
              "1091            1.811921              227.400000            2.371156   \n",
              "1092            3.064608              200.800000            3.892276   \n",
              "1093            3.825167              189.100000            4.764682   \n",
              "1094            3.265932              125.900000            4.451511   \n",
              "\n",
              "      rain_accumulation_9am  rain_duration_9am  relative_humidity_9am  \\\n",
              "0                       0.0                0.0              42.420000   \n",
              "1                       0.0                0.0              24.328697   \n",
              "2                       0.0               20.0               8.900000   \n",
              "3                       0.0                0.0              12.189102   \n",
              "4                       8.9            14730.0              92.410000   \n",
              "...                     ...                ...                    ...   \n",
              "1090                    0.0                0.0              26.020000   \n",
              "1091                    0.0                0.0              90.350000   \n",
              "1092                    0.0                0.0              45.590000   \n",
              "1093                    0.0                0.0              64.840000   \n",
              "1094                    0.0                0.0              14.560000   \n",
              "\n",
              "      relative_humidity_3pm  \n",
              "0                 36.160000  \n",
              "1                 19.426597  \n",
              "2                 14.460000  \n",
              "3                 12.742547  \n",
              "4                 76.740000  \n",
              "...                     ...  \n",
              "1090              38.180000  \n",
              "1091              73.340000  \n",
              "1092              52.310000  \n",
              "1093              58.280000  \n",
              "1094              15.100000  \n",
              "\n",
              "[1095 rows x 11 columns]"
            ],
            "text/html": [
              "\n",
              "  <div id=\"df-54c465ab-a90f-4a18-8081-64b6dc390ff7\">\n",
              "    <div class=\"colab-df-container\">\n",
              "      <div>\n",
              "<style scoped>\n",
              "    .dataframe tbody tr th:only-of-type {\n",
              "        vertical-align: middle;\n",
              "    }\n",
              "\n",
              "    .dataframe tbody tr th {\n",
              "        vertical-align: top;\n",
              "    }\n",
              "\n",
              "    .dataframe thead th {\n",
              "        text-align: right;\n",
              "    }\n",
              "</style>\n",
              "<table border=\"1\" class=\"dataframe\">\n",
              "  <thead>\n",
              "    <tr style=\"text-align: right;\">\n",
              "      <th></th>\n",
              "      <th>number</th>\n",
              "      <th>air_pressure_9am</th>\n",
              "      <th>air_temp_9am</th>\n",
              "      <th>avg_wind_direction_9am</th>\n",
              "      <th>avg_wind_speed_9am</th>\n",
              "      <th>max_wind_direction_9am</th>\n",
              "      <th>max_wind_speed_9am</th>\n",
              "      <th>rain_accumulation_9am</th>\n",
              "      <th>rain_duration_9am</th>\n",
              "      <th>relative_humidity_9am</th>\n",
              "      <th>relative_humidity_3pm</th>\n",
              "    </tr>\n",
              "  </thead>\n",
              "  <tbody>\n",
              "    <tr>\n",
              "      <th>0</th>\n",
              "      <td>0</td>\n",
              "      <td>917.060000</td>\n",
              "      <td>74.822000</td>\n",
              "      <td>271.100000</td>\n",
              "      <td>2.080354</td>\n",
              "      <td>295.400000</td>\n",
              "      <td>2.863283</td>\n",
              "      <td>0.0</td>\n",
              "      <td>0.0</td>\n",
              "      <td>42.420000</td>\n",
              "      <td>36.160000</td>\n",
              "    </tr>\n",
              "    <tr>\n",
              "      <th>1</th>\n",
              "      <td>1</td>\n",
              "      <td>918.347688</td>\n",
              "      <td>71.403843</td>\n",
              "      <td>100.935179</td>\n",
              "      <td>2.443009</td>\n",
              "      <td>140.471549</td>\n",
              "      <td>3.533324</td>\n",
              "      <td>0.0</td>\n",
              "      <td>0.0</td>\n",
              "      <td>24.328697</td>\n",
              "      <td>19.426597</td>\n",
              "    </tr>\n",
              "    <tr>\n",
              "      <th>2</th>\n",
              "      <td>2</td>\n",
              "      <td>923.040000</td>\n",
              "      <td>60.638000</td>\n",
              "      <td>51.000000</td>\n",
              "      <td>17.067852</td>\n",
              "      <td>63.700000</td>\n",
              "      <td>22.100967</td>\n",
              "      <td>0.0</td>\n",
              "      <td>20.0</td>\n",
              "      <td>8.900000</td>\n",
              "      <td>14.460000</td>\n",
              "    </tr>\n",
              "    <tr>\n",
              "      <th>3</th>\n",
              "      <td>3</td>\n",
              "      <td>920.502751</td>\n",
              "      <td>70.138895</td>\n",
              "      <td>198.832133</td>\n",
              "      <td>4.337363</td>\n",
              "      <td>211.203341</td>\n",
              "      <td>5.190045</td>\n",
              "      <td>0.0</td>\n",
              "      <td>0.0</td>\n",
              "      <td>12.189102</td>\n",
              "      <td>12.742547</td>\n",
              "    </tr>\n",
              "    <tr>\n",
              "      <th>4</th>\n",
              "      <td>4</td>\n",
              "      <td>921.160000</td>\n",
              "      <td>44.294000</td>\n",
              "      <td>277.800000</td>\n",
              "      <td>1.856660</td>\n",
              "      <td>136.500000</td>\n",
              "      <td>2.863283</td>\n",
              "      <td>8.9</td>\n",
              "      <td>14730.0</td>\n",
              "      <td>92.410000</td>\n",
              "      <td>76.740000</td>\n",
              "    </tr>\n",
              "    <tr>\n",
              "      <th>...</th>\n",
              "      <td>...</td>\n",
              "      <td>...</td>\n",
              "      <td>...</td>\n",
              "      <td>...</td>\n",
              "      <td>...</td>\n",
              "      <td>...</td>\n",
              "      <td>...</td>\n",
              "      <td>...</td>\n",
              "      <td>...</td>\n",
              "      <td>...</td>\n",
              "      <td>...</td>\n",
              "    </tr>\n",
              "    <tr>\n",
              "      <th>1090</th>\n",
              "      <td>1090</td>\n",
              "      <td>918.900000</td>\n",
              "      <td>63.104000</td>\n",
              "      <td>192.900000</td>\n",
              "      <td>3.869906</td>\n",
              "      <td>207.300000</td>\n",
              "      <td>5.212070</td>\n",
              "      <td>0.0</td>\n",
              "      <td>0.0</td>\n",
              "      <td>26.020000</td>\n",
              "      <td>38.180000</td>\n",
              "    </tr>\n",
              "    <tr>\n",
              "      <th>1091</th>\n",
              "      <td>1091</td>\n",
              "      <td>918.710000</td>\n",
              "      <td>49.568000</td>\n",
              "      <td>241.600000</td>\n",
              "      <td>1.811921</td>\n",
              "      <td>227.400000</td>\n",
              "      <td>2.371156</td>\n",
              "      <td>0.0</td>\n",
              "      <td>0.0</td>\n",
              "      <td>90.350000</td>\n",
              "      <td>73.340000</td>\n",
              "    </tr>\n",
              "    <tr>\n",
              "      <th>1092</th>\n",
              "      <td>1092</td>\n",
              "      <td>916.600000</td>\n",
              "      <td>71.096000</td>\n",
              "      <td>189.300000</td>\n",
              "      <td>3.064608</td>\n",
              "      <td>200.800000</td>\n",
              "      <td>3.892276</td>\n",
              "      <td>0.0</td>\n",
              "      <td>0.0</td>\n",
              "      <td>45.590000</td>\n",
              "      <td>52.310000</td>\n",
              "    </tr>\n",
              "    <tr>\n",
              "      <th>1093</th>\n",
              "      <td>1093</td>\n",
              "      <td>912.600000</td>\n",
              "      <td>58.406000</td>\n",
              "      <td>172.700000</td>\n",
              "      <td>3.825167</td>\n",
              "      <td>189.100000</td>\n",
              "      <td>4.764682</td>\n",
              "      <td>0.0</td>\n",
              "      <td>0.0</td>\n",
              "      <td>64.840000</td>\n",
              "      <td>58.280000</td>\n",
              "    </tr>\n",
              "    <tr>\n",
              "      <th>1094</th>\n",
              "      <td>1094</td>\n",
              "      <td>921.530000</td>\n",
              "      <td>77.702000</td>\n",
              "      <td>97.100000</td>\n",
              "      <td>3.265932</td>\n",
              "      <td>125.900000</td>\n",
              "      <td>4.451511</td>\n",
              "      <td>0.0</td>\n",
              "      <td>0.0</td>\n",
              "      <td>14.560000</td>\n",
              "      <td>15.100000</td>\n",
              "    </tr>\n",
              "  </tbody>\n",
              "</table>\n",
              "<p>1095 rows × 11 columns</p>\n",
              "</div>\n",
              "      <button class=\"colab-df-convert\" onclick=\"convertToInteractive('df-54c465ab-a90f-4a18-8081-64b6dc390ff7')\"\n",
              "              title=\"Convert this dataframe to an interactive table.\"\n",
              "              style=\"display:none;\">\n",
              "        \n",
              "  <svg xmlns=\"http://www.w3.org/2000/svg\" height=\"24px\"viewBox=\"0 0 24 24\"\n",
              "       width=\"24px\">\n",
              "    <path d=\"M0 0h24v24H0V0z\" fill=\"none\"/>\n",
              "    <path d=\"M18.56 5.44l.94 2.06.94-2.06 2.06-.94-2.06-.94-.94-2.06-.94 2.06-2.06.94zm-11 1L8.5 8.5l.94-2.06 2.06-.94-2.06-.94L8.5 2.5l-.94 2.06-2.06.94zm10 10l.94 2.06.94-2.06 2.06-.94-2.06-.94-.94-2.06-.94 2.06-2.06.94z\"/><path d=\"M17.41 7.96l-1.37-1.37c-.4-.4-.92-.59-1.43-.59-.52 0-1.04.2-1.43.59L10.3 9.45l-7.72 7.72c-.78.78-.78 2.05 0 2.83L4 21.41c.39.39.9.59 1.41.59.51 0 1.02-.2 1.41-.59l7.78-7.78 2.81-2.81c.8-.78.8-2.07 0-2.86zM5.41 20L4 18.59l7.72-7.72 1.47 1.35L5.41 20z\"/>\n",
              "  </svg>\n",
              "      </button>\n",
              "      \n",
              "  <style>\n",
              "    .colab-df-container {\n",
              "      display:flex;\n",
              "      flex-wrap:wrap;\n",
              "      gap: 12px;\n",
              "    }\n",
              "\n",
              "    .colab-df-convert {\n",
              "      background-color: #E8F0FE;\n",
              "      border: none;\n",
              "      border-radius: 50%;\n",
              "      cursor: pointer;\n",
              "      display: none;\n",
              "      fill: #1967D2;\n",
              "      height: 32px;\n",
              "      padding: 0 0 0 0;\n",
              "      width: 32px;\n",
              "    }\n",
              "\n",
              "    .colab-df-convert:hover {\n",
              "      background-color: #E2EBFA;\n",
              "      box-shadow: 0px 1px 2px rgba(60, 64, 67, 0.3), 0px 1px 3px 1px rgba(60, 64, 67, 0.15);\n",
              "      fill: #174EA6;\n",
              "    }\n",
              "\n",
              "    [theme=dark] .colab-df-convert {\n",
              "      background-color: #3B4455;\n",
              "      fill: #D2E3FC;\n",
              "    }\n",
              "\n",
              "    [theme=dark] .colab-df-convert:hover {\n",
              "      background-color: #434B5C;\n",
              "      box-shadow: 0px 1px 3px 1px rgba(0, 0, 0, 0.15);\n",
              "      filter: drop-shadow(0px 1px 2px rgba(0, 0, 0, 0.3));\n",
              "      fill: #FFFFFF;\n",
              "    }\n",
              "  </style>\n",
              "\n",
              "      <script>\n",
              "        const buttonEl =\n",
              "          document.querySelector('#df-54c465ab-a90f-4a18-8081-64b6dc390ff7 button.colab-df-convert');\n",
              "        buttonEl.style.display =\n",
              "          google.colab.kernel.accessAllowed ? 'block' : 'none';\n",
              "\n",
              "        async function convertToInteractive(key) {\n",
              "          const element = document.querySelector('#df-54c465ab-a90f-4a18-8081-64b6dc390ff7');\n",
              "          const dataTable =\n",
              "            await google.colab.kernel.invokeFunction('convertToInteractive',\n",
              "                                                     [key], {});\n",
              "          if (!dataTable) return;\n",
              "\n",
              "          const docLinkHtml = 'Like what you see? Visit the ' +\n",
              "            '<a target=\"_blank\" href=https://colab.research.google.com/notebooks/data_table.ipynb>data table notebook</a>'\n",
              "            + ' to learn more about interactive tables.';\n",
              "          element.innerHTML = '';\n",
              "          dataTable['output_type'] = 'display_data';\n",
              "          await google.colab.output.renderOutput(dataTable, element);\n",
              "          const docLink = document.createElement('div');\n",
              "          docLink.innerHTML = docLinkHtml;\n",
              "          element.appendChild(docLink);\n",
              "        }\n",
              "      </script>\n",
              "    </div>\n",
              "  </div>\n",
              "  "
            ]
          },
          "metadata": {},
          "execution_count": 224
        }
      ]
    },
    {
      "cell_type": "code",
      "source": [
        "data[data.isnull().any(axis=1)]"
      ],
      "metadata": {
        "colab": {
          "base_uri": "https://localhost:8080/",
          "height": 1000
        },
        "id": "4ujsxA6vTguQ",
        "outputId": "d9e0930a-e211-4b82-c794-cc84520f3718"
      },
      "execution_count": null,
      "outputs": [
        {
          "output_type": "execute_result",
          "data": {
            "text/plain": [
              "      number  air_pressure_9am  air_temp_9am  avg_wind_direction_9am  \\\n",
              "16        16        917.890000           NaN              169.200000   \n",
              "111      111        915.290000     58.820000              182.600000   \n",
              "177      177        915.900000           NaN              183.300000   \n",
              "262      262        923.596607     58.380598               47.737753   \n",
              "277      277        920.480000     62.600000              194.400000   \n",
              "334      334        916.230000     75.740000              149.100000   \n",
              "358      358        917.440000     58.514000               55.100000   \n",
              "361      361        920.444946     65.801845               49.823346   \n",
              "381      381        918.480000     66.542000               90.900000   \n",
              "409      409               NaN     67.853833               65.880616   \n",
              "517      517        920.570000     53.600000              100.100000   \n",
              "519      519        916.250000     55.670000              176.400000   \n",
              "546      546               NaN     42.746000              251.100000   \n",
              "620      620        921.200000     56.786000              192.300000   \n",
              "625      625        912.400000     50.774000              171.600000   \n",
              "656      656        920.830000     66.344000                     NaN   \n",
              "670      670        910.920000     48.362000              156.500000   \n",
              "672      672        922.448945     72.863773                     NaN   \n",
              "705      705        911.900000     59.072000              199.800000   \n",
              "731      731        922.970167     51.391847               33.810942   \n",
              "737      737        917.895130     76.804690              104.771020   \n",
              "788      788        917.923442     73.249717               42.101739   \n",
              "840      840        918.043767           NaN              181.774042   \n",
              "848      848        915.250000     37.562000              246.500000   \n",
              "861      861        919.065408           NaN              172.303728   \n",
              "869      869               NaN     45.104000              259.000000   \n",
              "998      998        914.140000     71.240000                     NaN   \n",
              "1031    1031        922.669195           NaN               47.946284   \n",
              "1035    1035        919.670000     77.576000              171.800000   \n",
              "1063    1063        917.300185     65.790001                     NaN   \n",
              "1066    1066        919.564869     73.726732               68.704694   \n",
              "\n",
              "      avg_wind_speed_9am  max_wind_direction_9am  max_wind_speed_9am  \\\n",
              "16              2.192201              196.800000            2.930391   \n",
              "111            15.613841              189.000000                 NaN   \n",
              "177             4.719943              189.900000            5.346287   \n",
              "262            10.636273               67.145843           13.671423   \n",
              "277             2.751436                     NaN            3.869906   \n",
              "334             2.751436              187.500000            4.183078   \n",
              "358            10.021491                     NaN           12.705819   \n",
              "361            21.520177               61.886944           25.549112   \n",
              "381             3.467257               89.400000            4.406772   \n",
              "409             4.328594               78.570923            5.216734   \n",
              "517             4.697574                     NaN            6.285801   \n",
              "519             6.666081              188.200000                 NaN   \n",
              "546            12.929513              274.400000           17.604718   \n",
              "620             9.551734              201.400000           11.005745   \n",
              "625                  NaN              181.400000            4.831790   \n",
              "656            15.457255              189.400000           16.486248   \n",
              "670                  NaN              177.500000           16.128337   \n",
              "672             3.682370              214.196160            4.849450   \n",
              "705             1.275056              239.500000            1.834291   \n",
              "731                  NaN               59.290089           11.111555   \n",
              "737             1.632705               97.178763                 NaN   \n",
              "788             4.132698               64.284969            5.345258   \n",
              "840             0.964376              185.618601            1.570007   \n",
              "848            11.587349              258.700000                 NaN   \n",
              "861             2.639600              193.058141            3.326949   \n",
              "869             3.265932              275.000000            4.026492   \n",
              "998             1.722444              232.900000            2.326418   \n",
              "1031            7.969686               65.770066           10.262337   \n",
              "1035            6.554234              191.000000            8.164831   \n",
              "1063            1.879553              222.498226            2.692862   \n",
              "1066            3.551777              102.571616            4.861315   \n",
              "\n",
              "      rain_accumulation_9am  rain_duration_9am  relative_humidity_9am  \\\n",
              "16                    0.000           0.000000              48.990000   \n",
              "111                   0.000           0.000000              21.500000   \n",
              "177                   0.000           0.000000              29.260000   \n",
              "262                   0.000                NaN              17.990876   \n",
              "277                   0.000           0.000000              52.580000   \n",
              "334                     NaN        1480.000000              31.880000   \n",
              "358                   0.000           0.000000              13.880000   \n",
              "361                     NaN          40.364018              12.278715   \n",
              "381                     NaN           0.000000              20.640000   \n",
              "409                   0.000           0.000000              18.487385   \n",
              "517                   4.712       14842.000000              79.880000   \n",
              "519                   0.000           0.000000              72.550000   \n",
              "546                  14.627        7825.000000              87.870000   \n",
              "620                     NaN           0.000000              59.790000   \n",
              "625                   0.000           0.000000              86.840000   \n",
              "656                   0.000           0.000000              23.770000   \n",
              "670                   4.970       10560.000000              80.560000   \n",
              "672                   0.000           0.000000              16.753670   \n",
              "705                     NaN           0.000000              77.630000   \n",
              "731                   0.000           4.735034              34.807753   \n",
              "737                   0.000           0.000000              13.771311   \n",
              "788                   0.000                NaN               6.939692   \n",
              "840                   0.000           0.000000              11.911222   \n",
              "848                   3.171        2891.000000              91.000000   \n",
              "861                   0.000           0.000000              12.497839   \n",
              "869                   0.000          80.000000              85.270000   \n",
              "998                   0.000           0.000000              24.200000   \n",
              "1031                  0.000           0.000000              18.920805   \n",
              "1035                  0.000                NaN              56.860000   \n",
              "1063                  0.000           0.000000              14.972668   \n",
              "1066                    NaN           0.000000              11.657314   \n",
              "\n",
              "      relative_humidity_3pm  \n",
              "16                51.190000  \n",
              "111               29.690000  \n",
              "177               46.500000  \n",
              "262               16.461685  \n",
              "277               54.030000  \n",
              "334               32.900000  \n",
              "358               25.930000  \n",
              "361                7.618649  \n",
              "381               14.350000  \n",
              "409               20.356594  \n",
              "517               84.530000  \n",
              "519               74.390000  \n",
              "546               70.770000  \n",
              "620               77.750000  \n",
              "625               64.740000  \n",
              "656               51.630000  \n",
              "670               88.220000  \n",
              "672               17.804720  \n",
              "705               59.130000  \n",
              "731               18.418179  \n",
              "737               16.792455  \n",
              "788               18.793825  \n",
              "840               18.154358  \n",
              "848               90.780000  \n",
              "861               13.438518  \n",
              "869               90.260000  \n",
              "998               41.380000  \n",
              "1031              19.641841  \n",
              "1035              50.650000  \n",
              "1063              20.966267  \n",
              "1066              17.331823  "
            ],
            "text/html": [
              "\n",
              "  <div id=\"df-e6bd5368-a9e6-4943-8627-b7ef8fb7ed64\">\n",
              "    <div class=\"colab-df-container\">\n",
              "      <div>\n",
              "<style scoped>\n",
              "    .dataframe tbody tr th:only-of-type {\n",
              "        vertical-align: middle;\n",
              "    }\n",
              "\n",
              "    .dataframe tbody tr th {\n",
              "        vertical-align: top;\n",
              "    }\n",
              "\n",
              "    .dataframe thead th {\n",
              "        text-align: right;\n",
              "    }\n",
              "</style>\n",
              "<table border=\"1\" class=\"dataframe\">\n",
              "  <thead>\n",
              "    <tr style=\"text-align: right;\">\n",
              "      <th></th>\n",
              "      <th>number</th>\n",
              "      <th>air_pressure_9am</th>\n",
              "      <th>air_temp_9am</th>\n",
              "      <th>avg_wind_direction_9am</th>\n",
              "      <th>avg_wind_speed_9am</th>\n",
              "      <th>max_wind_direction_9am</th>\n",
              "      <th>max_wind_speed_9am</th>\n",
              "      <th>rain_accumulation_9am</th>\n",
              "      <th>rain_duration_9am</th>\n",
              "      <th>relative_humidity_9am</th>\n",
              "      <th>relative_humidity_3pm</th>\n",
              "    </tr>\n",
              "  </thead>\n",
              "  <tbody>\n",
              "    <tr>\n",
              "      <th>16</th>\n",
              "      <td>16</td>\n",
              "      <td>917.890000</td>\n",
              "      <td>NaN</td>\n",
              "      <td>169.200000</td>\n",
              "      <td>2.192201</td>\n",
              "      <td>196.800000</td>\n",
              "      <td>2.930391</td>\n",
              "      <td>0.000</td>\n",
              "      <td>0.000000</td>\n",
              "      <td>48.990000</td>\n",
              "      <td>51.190000</td>\n",
              "    </tr>\n",
              "    <tr>\n",
              "      <th>111</th>\n",
              "      <td>111</td>\n",
              "      <td>915.290000</td>\n",
              "      <td>58.820000</td>\n",
              "      <td>182.600000</td>\n",
              "      <td>15.613841</td>\n",
              "      <td>189.000000</td>\n",
              "      <td>NaN</td>\n",
              "      <td>0.000</td>\n",
              "      <td>0.000000</td>\n",
              "      <td>21.500000</td>\n",
              "      <td>29.690000</td>\n",
              "    </tr>\n",
              "    <tr>\n",
              "      <th>177</th>\n",
              "      <td>177</td>\n",
              "      <td>915.900000</td>\n",
              "      <td>NaN</td>\n",
              "      <td>183.300000</td>\n",
              "      <td>4.719943</td>\n",
              "      <td>189.900000</td>\n",
              "      <td>5.346287</td>\n",
              "      <td>0.000</td>\n",
              "      <td>0.000000</td>\n",
              "      <td>29.260000</td>\n",
              "      <td>46.500000</td>\n",
              "    </tr>\n",
              "    <tr>\n",
              "      <th>262</th>\n",
              "      <td>262</td>\n",
              "      <td>923.596607</td>\n",
              "      <td>58.380598</td>\n",
              "      <td>47.737753</td>\n",
              "      <td>10.636273</td>\n",
              "      <td>67.145843</td>\n",
              "      <td>13.671423</td>\n",
              "      <td>0.000</td>\n",
              "      <td>NaN</td>\n",
              "      <td>17.990876</td>\n",
              "      <td>16.461685</td>\n",
              "    </tr>\n",
              "    <tr>\n",
              "      <th>277</th>\n",
              "      <td>277</td>\n",
              "      <td>920.480000</td>\n",
              "      <td>62.600000</td>\n",
              "      <td>194.400000</td>\n",
              "      <td>2.751436</td>\n",
              "      <td>NaN</td>\n",
              "      <td>3.869906</td>\n",
              "      <td>0.000</td>\n",
              "      <td>0.000000</td>\n",
              "      <td>52.580000</td>\n",
              "      <td>54.030000</td>\n",
              "    </tr>\n",
              "    <tr>\n",
              "      <th>334</th>\n",
              "      <td>334</td>\n",
              "      <td>916.230000</td>\n",
              "      <td>75.740000</td>\n",
              "      <td>149.100000</td>\n",
              "      <td>2.751436</td>\n",
              "      <td>187.500000</td>\n",
              "      <td>4.183078</td>\n",
              "      <td>NaN</td>\n",
              "      <td>1480.000000</td>\n",
              "      <td>31.880000</td>\n",
              "      <td>32.900000</td>\n",
              "    </tr>\n",
              "    <tr>\n",
              "      <th>358</th>\n",
              "      <td>358</td>\n",
              "      <td>917.440000</td>\n",
              "      <td>58.514000</td>\n",
              "      <td>55.100000</td>\n",
              "      <td>10.021491</td>\n",
              "      <td>NaN</td>\n",
              "      <td>12.705819</td>\n",
              "      <td>0.000</td>\n",
              "      <td>0.000000</td>\n",
              "      <td>13.880000</td>\n",
              "      <td>25.930000</td>\n",
              "    </tr>\n",
              "    <tr>\n",
              "      <th>361</th>\n",
              "      <td>361</td>\n",
              "      <td>920.444946</td>\n",
              "      <td>65.801845</td>\n",
              "      <td>49.823346</td>\n",
              "      <td>21.520177</td>\n",
              "      <td>61.886944</td>\n",
              "      <td>25.549112</td>\n",
              "      <td>NaN</td>\n",
              "      <td>40.364018</td>\n",
              "      <td>12.278715</td>\n",
              "      <td>7.618649</td>\n",
              "    </tr>\n",
              "    <tr>\n",
              "      <th>381</th>\n",
              "      <td>381</td>\n",
              "      <td>918.480000</td>\n",
              "      <td>66.542000</td>\n",
              "      <td>90.900000</td>\n",
              "      <td>3.467257</td>\n",
              "      <td>89.400000</td>\n",
              "      <td>4.406772</td>\n",
              "      <td>NaN</td>\n",
              "      <td>0.000000</td>\n",
              "      <td>20.640000</td>\n",
              "      <td>14.350000</td>\n",
              "    </tr>\n",
              "    <tr>\n",
              "      <th>409</th>\n",
              "      <td>409</td>\n",
              "      <td>NaN</td>\n",
              "      <td>67.853833</td>\n",
              "      <td>65.880616</td>\n",
              "      <td>4.328594</td>\n",
              "      <td>78.570923</td>\n",
              "      <td>5.216734</td>\n",
              "      <td>0.000</td>\n",
              "      <td>0.000000</td>\n",
              "      <td>18.487385</td>\n",
              "      <td>20.356594</td>\n",
              "    </tr>\n",
              "    <tr>\n",
              "      <th>517</th>\n",
              "      <td>517</td>\n",
              "      <td>920.570000</td>\n",
              "      <td>53.600000</td>\n",
              "      <td>100.100000</td>\n",
              "      <td>4.697574</td>\n",
              "      <td>NaN</td>\n",
              "      <td>6.285801</td>\n",
              "      <td>4.712</td>\n",
              "      <td>14842.000000</td>\n",
              "      <td>79.880000</td>\n",
              "      <td>84.530000</td>\n",
              "    </tr>\n",
              "    <tr>\n",
              "      <th>519</th>\n",
              "      <td>519</td>\n",
              "      <td>916.250000</td>\n",
              "      <td>55.670000</td>\n",
              "      <td>176.400000</td>\n",
              "      <td>6.666081</td>\n",
              "      <td>188.200000</td>\n",
              "      <td>NaN</td>\n",
              "      <td>0.000</td>\n",
              "      <td>0.000000</td>\n",
              "      <td>72.550000</td>\n",
              "      <td>74.390000</td>\n",
              "    </tr>\n",
              "    <tr>\n",
              "      <th>546</th>\n",
              "      <td>546</td>\n",
              "      <td>NaN</td>\n",
              "      <td>42.746000</td>\n",
              "      <td>251.100000</td>\n",
              "      <td>12.929513</td>\n",
              "      <td>274.400000</td>\n",
              "      <td>17.604718</td>\n",
              "      <td>14.627</td>\n",
              "      <td>7825.000000</td>\n",
              "      <td>87.870000</td>\n",
              "      <td>70.770000</td>\n",
              "    </tr>\n",
              "    <tr>\n",
              "      <th>620</th>\n",
              "      <td>620</td>\n",
              "      <td>921.200000</td>\n",
              "      <td>56.786000</td>\n",
              "      <td>192.300000</td>\n",
              "      <td>9.551734</td>\n",
              "      <td>201.400000</td>\n",
              "      <td>11.005745</td>\n",
              "      <td>NaN</td>\n",
              "      <td>0.000000</td>\n",
              "      <td>59.790000</td>\n",
              "      <td>77.750000</td>\n",
              "    </tr>\n",
              "    <tr>\n",
              "      <th>625</th>\n",
              "      <td>625</td>\n",
              "      <td>912.400000</td>\n",
              "      <td>50.774000</td>\n",
              "      <td>171.600000</td>\n",
              "      <td>NaN</td>\n",
              "      <td>181.400000</td>\n",
              "      <td>4.831790</td>\n",
              "      <td>0.000</td>\n",
              "      <td>0.000000</td>\n",
              "      <td>86.840000</td>\n",
              "      <td>64.740000</td>\n",
              "    </tr>\n",
              "    <tr>\n",
              "      <th>656</th>\n",
              "      <td>656</td>\n",
              "      <td>920.830000</td>\n",
              "      <td>66.344000</td>\n",
              "      <td>NaN</td>\n",
              "      <td>15.457255</td>\n",
              "      <td>189.400000</td>\n",
              "      <td>16.486248</td>\n",
              "      <td>0.000</td>\n",
              "      <td>0.000000</td>\n",
              "      <td>23.770000</td>\n",
              "      <td>51.630000</td>\n",
              "    </tr>\n",
              "    <tr>\n",
              "      <th>670</th>\n",
              "      <td>670</td>\n",
              "      <td>910.920000</td>\n",
              "      <td>48.362000</td>\n",
              "      <td>156.500000</td>\n",
              "      <td>NaN</td>\n",
              "      <td>177.500000</td>\n",
              "      <td>16.128337</td>\n",
              "      <td>4.970</td>\n",
              "      <td>10560.000000</td>\n",
              "      <td>80.560000</td>\n",
              "      <td>88.220000</td>\n",
              "    </tr>\n",
              "    <tr>\n",
              "      <th>672</th>\n",
              "      <td>672</td>\n",
              "      <td>922.448945</td>\n",
              "      <td>72.863773</td>\n",
              "      <td>NaN</td>\n",
              "      <td>3.682370</td>\n",
              "      <td>214.196160</td>\n",
              "      <td>4.849450</td>\n",
              "      <td>0.000</td>\n",
              "      <td>0.000000</td>\n",
              "      <td>16.753670</td>\n",
              "      <td>17.804720</td>\n",
              "    </tr>\n",
              "    <tr>\n",
              "      <th>705</th>\n",
              "      <td>705</td>\n",
              "      <td>911.900000</td>\n",
              "      <td>59.072000</td>\n",
              "      <td>199.800000</td>\n",
              "      <td>1.275056</td>\n",
              "      <td>239.500000</td>\n",
              "      <td>1.834291</td>\n",
              "      <td>NaN</td>\n",
              "      <td>0.000000</td>\n",
              "      <td>77.630000</td>\n",
              "      <td>59.130000</td>\n",
              "    </tr>\n",
              "    <tr>\n",
              "      <th>731</th>\n",
              "      <td>731</td>\n",
              "      <td>922.970167</td>\n",
              "      <td>51.391847</td>\n",
              "      <td>33.810942</td>\n",
              "      <td>NaN</td>\n",
              "      <td>59.290089</td>\n",
              "      <td>11.111555</td>\n",
              "      <td>0.000</td>\n",
              "      <td>4.735034</td>\n",
              "      <td>34.807753</td>\n",
              "      <td>18.418179</td>\n",
              "    </tr>\n",
              "    <tr>\n",
              "      <th>737</th>\n",
              "      <td>737</td>\n",
              "      <td>917.895130</td>\n",
              "      <td>76.804690</td>\n",
              "      <td>104.771020</td>\n",
              "      <td>1.632705</td>\n",
              "      <td>97.178763</td>\n",
              "      <td>NaN</td>\n",
              "      <td>0.000</td>\n",
              "      <td>0.000000</td>\n",
              "      <td>13.771311</td>\n",
              "      <td>16.792455</td>\n",
              "    </tr>\n",
              "    <tr>\n",
              "      <th>788</th>\n",
              "      <td>788</td>\n",
              "      <td>917.923442</td>\n",
              "      <td>73.249717</td>\n",
              "      <td>42.101739</td>\n",
              "      <td>4.132698</td>\n",
              "      <td>64.284969</td>\n",
              "      <td>5.345258</td>\n",
              "      <td>0.000</td>\n",
              "      <td>NaN</td>\n",
              "      <td>6.939692</td>\n",
              "      <td>18.793825</td>\n",
              "    </tr>\n",
              "    <tr>\n",
              "      <th>840</th>\n",
              "      <td>840</td>\n",
              "      <td>918.043767</td>\n",
              "      <td>NaN</td>\n",
              "      <td>181.774042</td>\n",
              "      <td>0.964376</td>\n",
              "      <td>185.618601</td>\n",
              "      <td>1.570007</td>\n",
              "      <td>0.000</td>\n",
              "      <td>0.000000</td>\n",
              "      <td>11.911222</td>\n",
              "      <td>18.154358</td>\n",
              "    </tr>\n",
              "    <tr>\n",
              "      <th>848</th>\n",
              "      <td>848</td>\n",
              "      <td>915.250000</td>\n",
              "      <td>37.562000</td>\n",
              "      <td>246.500000</td>\n",
              "      <td>11.587349</td>\n",
              "      <td>258.700000</td>\n",
              "      <td>NaN</td>\n",
              "      <td>3.171</td>\n",
              "      <td>2891.000000</td>\n",
              "      <td>91.000000</td>\n",
              "      <td>90.780000</td>\n",
              "    </tr>\n",
              "    <tr>\n",
              "      <th>861</th>\n",
              "      <td>861</td>\n",
              "      <td>919.065408</td>\n",
              "      <td>NaN</td>\n",
              "      <td>172.303728</td>\n",
              "      <td>2.639600</td>\n",
              "      <td>193.058141</td>\n",
              "      <td>3.326949</td>\n",
              "      <td>0.000</td>\n",
              "      <td>0.000000</td>\n",
              "      <td>12.497839</td>\n",
              "      <td>13.438518</td>\n",
              "    </tr>\n",
              "    <tr>\n",
              "      <th>869</th>\n",
              "      <td>869</td>\n",
              "      <td>NaN</td>\n",
              "      <td>45.104000</td>\n",
              "      <td>259.000000</td>\n",
              "      <td>3.265932</td>\n",
              "      <td>275.000000</td>\n",
              "      <td>4.026492</td>\n",
              "      <td>0.000</td>\n",
              "      <td>80.000000</td>\n",
              "      <td>85.270000</td>\n",
              "      <td>90.260000</td>\n",
              "    </tr>\n",
              "    <tr>\n",
              "      <th>998</th>\n",
              "      <td>998</td>\n",
              "      <td>914.140000</td>\n",
              "      <td>71.240000</td>\n",
              "      <td>NaN</td>\n",
              "      <td>1.722444</td>\n",
              "      <td>232.900000</td>\n",
              "      <td>2.326418</td>\n",
              "      <td>0.000</td>\n",
              "      <td>0.000000</td>\n",
              "      <td>24.200000</td>\n",
              "      <td>41.380000</td>\n",
              "    </tr>\n",
              "    <tr>\n",
              "      <th>1031</th>\n",
              "      <td>1031</td>\n",
              "      <td>922.669195</td>\n",
              "      <td>NaN</td>\n",
              "      <td>47.946284</td>\n",
              "      <td>7.969686</td>\n",
              "      <td>65.770066</td>\n",
              "      <td>10.262337</td>\n",
              "      <td>0.000</td>\n",
              "      <td>0.000000</td>\n",
              "      <td>18.920805</td>\n",
              "      <td>19.641841</td>\n",
              "    </tr>\n",
              "    <tr>\n",
              "      <th>1035</th>\n",
              "      <td>1035</td>\n",
              "      <td>919.670000</td>\n",
              "      <td>77.576000</td>\n",
              "      <td>171.800000</td>\n",
              "      <td>6.554234</td>\n",
              "      <td>191.000000</td>\n",
              "      <td>8.164831</td>\n",
              "      <td>0.000</td>\n",
              "      <td>NaN</td>\n",
              "      <td>56.860000</td>\n",
              "      <td>50.650000</td>\n",
              "    </tr>\n",
              "    <tr>\n",
              "      <th>1063</th>\n",
              "      <td>1063</td>\n",
              "      <td>917.300185</td>\n",
              "      <td>65.790001</td>\n",
              "      <td>NaN</td>\n",
              "      <td>1.879553</td>\n",
              "      <td>222.498226</td>\n",
              "      <td>2.692862</td>\n",
              "      <td>0.000</td>\n",
              "      <td>0.000000</td>\n",
              "      <td>14.972668</td>\n",
              "      <td>20.966267</td>\n",
              "    </tr>\n",
              "    <tr>\n",
              "      <th>1066</th>\n",
              "      <td>1066</td>\n",
              "      <td>919.564869</td>\n",
              "      <td>73.726732</td>\n",
              "      <td>68.704694</td>\n",
              "      <td>3.551777</td>\n",
              "      <td>102.571616</td>\n",
              "      <td>4.861315</td>\n",
              "      <td>NaN</td>\n",
              "      <td>0.000000</td>\n",
              "      <td>11.657314</td>\n",
              "      <td>17.331823</td>\n",
              "    </tr>\n",
              "  </tbody>\n",
              "</table>\n",
              "</div>\n",
              "      <button class=\"colab-df-convert\" onclick=\"convertToInteractive('df-e6bd5368-a9e6-4943-8627-b7ef8fb7ed64')\"\n",
              "              title=\"Convert this dataframe to an interactive table.\"\n",
              "              style=\"display:none;\">\n",
              "        \n",
              "  <svg xmlns=\"http://www.w3.org/2000/svg\" height=\"24px\"viewBox=\"0 0 24 24\"\n",
              "       width=\"24px\">\n",
              "    <path d=\"M0 0h24v24H0V0z\" fill=\"none\"/>\n",
              "    <path d=\"M18.56 5.44l.94 2.06.94-2.06 2.06-.94-2.06-.94-.94-2.06-.94 2.06-2.06.94zm-11 1L8.5 8.5l.94-2.06 2.06-.94-2.06-.94L8.5 2.5l-.94 2.06-2.06.94zm10 10l.94 2.06.94-2.06 2.06-.94-2.06-.94-.94-2.06-.94 2.06-2.06.94z\"/><path d=\"M17.41 7.96l-1.37-1.37c-.4-.4-.92-.59-1.43-.59-.52 0-1.04.2-1.43.59L10.3 9.45l-7.72 7.72c-.78.78-.78 2.05 0 2.83L4 21.41c.39.39.9.59 1.41.59.51 0 1.02-.2 1.41-.59l7.78-7.78 2.81-2.81c.8-.78.8-2.07 0-2.86zM5.41 20L4 18.59l7.72-7.72 1.47 1.35L5.41 20z\"/>\n",
              "  </svg>\n",
              "      </button>\n",
              "      \n",
              "  <style>\n",
              "    .colab-df-container {\n",
              "      display:flex;\n",
              "      flex-wrap:wrap;\n",
              "      gap: 12px;\n",
              "    }\n",
              "\n",
              "    .colab-df-convert {\n",
              "      background-color: #E8F0FE;\n",
              "      border: none;\n",
              "      border-radius: 50%;\n",
              "      cursor: pointer;\n",
              "      display: none;\n",
              "      fill: #1967D2;\n",
              "      height: 32px;\n",
              "      padding: 0 0 0 0;\n",
              "      width: 32px;\n",
              "    }\n",
              "\n",
              "    .colab-df-convert:hover {\n",
              "      background-color: #E2EBFA;\n",
              "      box-shadow: 0px 1px 2px rgba(60, 64, 67, 0.3), 0px 1px 3px 1px rgba(60, 64, 67, 0.15);\n",
              "      fill: #174EA6;\n",
              "    }\n",
              "\n",
              "    [theme=dark] .colab-df-convert {\n",
              "      background-color: #3B4455;\n",
              "      fill: #D2E3FC;\n",
              "    }\n",
              "\n",
              "    [theme=dark] .colab-df-convert:hover {\n",
              "      background-color: #434B5C;\n",
              "      box-shadow: 0px 1px 3px 1px rgba(0, 0, 0, 0.15);\n",
              "      filter: drop-shadow(0px 1px 2px rgba(0, 0, 0, 0.3));\n",
              "      fill: #FFFFFF;\n",
              "    }\n",
              "  </style>\n",
              "\n",
              "      <script>\n",
              "        const buttonEl =\n",
              "          document.querySelector('#df-e6bd5368-a9e6-4943-8627-b7ef8fb7ed64 button.colab-df-convert');\n",
              "        buttonEl.style.display =\n",
              "          google.colab.kernel.accessAllowed ? 'block' : 'none';\n",
              "\n",
              "        async function convertToInteractive(key) {\n",
              "          const element = document.querySelector('#df-e6bd5368-a9e6-4943-8627-b7ef8fb7ed64');\n",
              "          const dataTable =\n",
              "            await google.colab.kernel.invokeFunction('convertToInteractive',\n",
              "                                                     [key], {});\n",
              "          if (!dataTable) return;\n",
              "\n",
              "          const docLinkHtml = 'Like what you see? Visit the ' +\n",
              "            '<a target=\"_blank\" href=https://colab.research.google.com/notebooks/data_table.ipynb>data table notebook</a>'\n",
              "            + ' to learn more about interactive tables.';\n",
              "          element.innerHTML = '';\n",
              "          dataTable['output_type'] = 'display_data';\n",
              "          await google.colab.output.renderOutput(dataTable, element);\n",
              "          const docLink = document.createElement('div');\n",
              "          docLink.innerHTML = docLinkHtml;\n",
              "          element.appendChild(docLink);\n",
              "        }\n",
              "      </script>\n",
              "    </div>\n",
              "  </div>\n",
              "  "
            ]
          },
          "metadata": {},
          "execution_count": 225
        }
      ]
    },
    {
      "cell_type": "markdown",
      "source": [
        "Data Cleaning"
      ],
      "metadata": {
        "id": "oZxcZU7AUQCu"
      }
    },
    {
      "cell_type": "code",
      "source": [
        "del data['number']"
      ],
      "metadata": {
        "id": "j8Dq3_X_ULZf"
      },
      "execution_count": null,
      "outputs": []
    },
    {
      "cell_type": "code",
      "source": [
        "before_rows = data.shape[0]\n",
        "print(before_rows)"
      ],
      "metadata": {
        "colab": {
          "base_uri": "https://localhost:8080/"
        },
        "id": "80nbM__pUny5",
        "outputId": "4ad151d9-9d1f-4bf2-e6ee-6594f8657cab"
      },
      "execution_count": null,
      "outputs": [
        {
          "output_type": "stream",
          "name": "stdout",
          "text": [
            "1095\n"
          ]
        }
      ]
    },
    {
      "cell_type": "code",
      "source": [
        "data = data.dropna()"
      ],
      "metadata": {
        "id": "4XetXMN9Upnk"
      },
      "execution_count": null,
      "outputs": []
    },
    {
      "cell_type": "code",
      "source": [
        "after_rows = data.shape[0]\n",
        "print(after_rows)"
      ],
      "metadata": {
        "colab": {
          "base_uri": "https://localhost:8080/"
        },
        "id": "GfOxA2KUUtBS",
        "outputId": "73efa082-1463-4578-b68b-60f7effb004b"
      },
      "execution_count": null,
      "outputs": [
        {
          "output_type": "stream",
          "name": "stdout",
          "text": [
            "1064\n"
          ]
        }
      ]
    },
    {
      "cell_type": "code",
      "source": [
        "before_rows - after_rows"
      ],
      "metadata": {
        "colab": {
          "base_uri": "https://localhost:8080/"
        },
        "id": "_v8shVz2Uxvm",
        "outputId": "2a21faf7-c148-49f6-bba9-a6a8f02c993d"
      },
      "execution_count": null,
      "outputs": [
        {
          "output_type": "execute_result",
          "data": {
            "text/plain": [
              "31"
            ]
          },
          "metadata": {},
          "execution_count": 230
        }
      ]
    },
    {
      "cell_type": "markdown",
      "source": [
        "Converting to a Classification Task"
      ],
      "metadata": {
        "id": "LAbhVjJRU5jx"
      }
    },
    {
      "cell_type": "code",
      "source": [
        "clean_data = data.copy()\n",
        "clean_data['high_humidity_label'] = (clean_data['relative_humidity_3pm'] > 24.99)*1\n",
        "print(clean_data['high_humidity_label'])"
      ],
      "metadata": {
        "colab": {
          "base_uri": "https://localhost:8080/"
        },
        "id": "Us5bOO_SU2h0",
        "outputId": "87c3eba7-3937-438d-f03d-fab84f9de54e"
      },
      "execution_count": null,
      "outputs": [
        {
          "output_type": "stream",
          "name": "stdout",
          "text": [
            "0       1\n",
            "1       0\n",
            "2       0\n",
            "3       0\n",
            "4       1\n",
            "       ..\n",
            "1090    1\n",
            "1091    1\n",
            "1092    1\n",
            "1093    1\n",
            "1094    0\n",
            "Name: high_humidity_label, Length: 1064, dtype: int64\n"
          ]
        }
      ]
    },
    {
      "cell_type": "code",
      "source": [
        "#Target in stored in y\n",
        "y=clean_data[['high_humidity_label']].copy()\n"
      ],
      "metadata": {
        "id": "vafiBVBjVEUf"
      },
      "execution_count": null,
      "outputs": []
    },
    {
      "cell_type": "code",
      "source": [
        "clean_data['relative_humidity_3pm'].head()"
      ],
      "metadata": {
        "colab": {
          "base_uri": "https://localhost:8080/"
        },
        "id": "fgvEhxpRVPg5",
        "outputId": "766614f3-9201-48b3-c73b-7dd32cfd8a7e"
      },
      "execution_count": null,
      "outputs": [
        {
          "output_type": "execute_result",
          "data": {
            "text/plain": [
              "0    36.160000\n",
              "1    19.426597\n",
              "2    14.460000\n",
              "3    12.742547\n",
              "4    76.740000\n",
              "Name: relative_humidity_3pm, dtype: float64"
            ]
          },
          "metadata": {},
          "execution_count": 233
        }
      ]
    },
    {
      "cell_type": "code",
      "source": [
        "y.head()"
      ],
      "metadata": {
        "colab": {
          "base_uri": "https://localhost:8080/",
          "height": 206
        },
        "id": "tVkjrI13VS_t",
        "outputId": "f916905c-0f73-406f-96ee-ce804a8dba30"
      },
      "execution_count": null,
      "outputs": [
        {
          "output_type": "execute_result",
          "data": {
            "text/plain": [
              "   high_humidity_label\n",
              "0                    1\n",
              "1                    0\n",
              "2                    0\n",
              "3                    0\n",
              "4                    1"
            ],
            "text/html": [
              "\n",
              "  <div id=\"df-4b246d45-6b1a-422d-86bc-11f9cd74a239\">\n",
              "    <div class=\"colab-df-container\">\n",
              "      <div>\n",
              "<style scoped>\n",
              "    .dataframe tbody tr th:only-of-type {\n",
              "        vertical-align: middle;\n",
              "    }\n",
              "\n",
              "    .dataframe tbody tr th {\n",
              "        vertical-align: top;\n",
              "    }\n",
              "\n",
              "    .dataframe thead th {\n",
              "        text-align: right;\n",
              "    }\n",
              "</style>\n",
              "<table border=\"1\" class=\"dataframe\">\n",
              "  <thead>\n",
              "    <tr style=\"text-align: right;\">\n",
              "      <th></th>\n",
              "      <th>high_humidity_label</th>\n",
              "    </tr>\n",
              "  </thead>\n",
              "  <tbody>\n",
              "    <tr>\n",
              "      <th>0</th>\n",
              "      <td>1</td>\n",
              "    </tr>\n",
              "    <tr>\n",
              "      <th>1</th>\n",
              "      <td>0</td>\n",
              "    </tr>\n",
              "    <tr>\n",
              "      <th>2</th>\n",
              "      <td>0</td>\n",
              "    </tr>\n",
              "    <tr>\n",
              "      <th>3</th>\n",
              "      <td>0</td>\n",
              "    </tr>\n",
              "    <tr>\n",
              "      <th>4</th>\n",
              "      <td>1</td>\n",
              "    </tr>\n",
              "  </tbody>\n",
              "</table>\n",
              "</div>\n",
              "      <button class=\"colab-df-convert\" onclick=\"convertToInteractive('df-4b246d45-6b1a-422d-86bc-11f9cd74a239')\"\n",
              "              title=\"Convert this dataframe to an interactive table.\"\n",
              "              style=\"display:none;\">\n",
              "        \n",
              "  <svg xmlns=\"http://www.w3.org/2000/svg\" height=\"24px\"viewBox=\"0 0 24 24\"\n",
              "       width=\"24px\">\n",
              "    <path d=\"M0 0h24v24H0V0z\" fill=\"none\"/>\n",
              "    <path d=\"M18.56 5.44l.94 2.06.94-2.06 2.06-.94-2.06-.94-.94-2.06-.94 2.06-2.06.94zm-11 1L8.5 8.5l.94-2.06 2.06-.94-2.06-.94L8.5 2.5l-.94 2.06-2.06.94zm10 10l.94 2.06.94-2.06 2.06-.94-2.06-.94-.94-2.06-.94 2.06-2.06.94z\"/><path d=\"M17.41 7.96l-1.37-1.37c-.4-.4-.92-.59-1.43-.59-.52 0-1.04.2-1.43.59L10.3 9.45l-7.72 7.72c-.78.78-.78 2.05 0 2.83L4 21.41c.39.39.9.59 1.41.59.51 0 1.02-.2 1.41-.59l7.78-7.78 2.81-2.81c.8-.78.8-2.07 0-2.86zM5.41 20L4 18.59l7.72-7.72 1.47 1.35L5.41 20z\"/>\n",
              "  </svg>\n",
              "      </button>\n",
              "      \n",
              "  <style>\n",
              "    .colab-df-container {\n",
              "      display:flex;\n",
              "      flex-wrap:wrap;\n",
              "      gap: 12px;\n",
              "    }\n",
              "\n",
              "    .colab-df-convert {\n",
              "      background-color: #E8F0FE;\n",
              "      border: none;\n",
              "      border-radius: 50%;\n",
              "      cursor: pointer;\n",
              "      display: none;\n",
              "      fill: #1967D2;\n",
              "      height: 32px;\n",
              "      padding: 0 0 0 0;\n",
              "      width: 32px;\n",
              "    }\n",
              "\n",
              "    .colab-df-convert:hover {\n",
              "      background-color: #E2EBFA;\n",
              "      box-shadow: 0px 1px 2px rgba(60, 64, 67, 0.3), 0px 1px 3px 1px rgba(60, 64, 67, 0.15);\n",
              "      fill: #174EA6;\n",
              "    }\n",
              "\n",
              "    [theme=dark] .colab-df-convert {\n",
              "      background-color: #3B4455;\n",
              "      fill: #D2E3FC;\n",
              "    }\n",
              "\n",
              "    [theme=dark] .colab-df-convert:hover {\n",
              "      background-color: #434B5C;\n",
              "      box-shadow: 0px 1px 3px 1px rgba(0, 0, 0, 0.15);\n",
              "      filter: drop-shadow(0px 1px 2px rgba(0, 0, 0, 0.3));\n",
              "      fill: #FFFFFF;\n",
              "    }\n",
              "  </style>\n",
              "\n",
              "      <script>\n",
              "        const buttonEl =\n",
              "          document.querySelector('#df-4b246d45-6b1a-422d-86bc-11f9cd74a239 button.colab-df-convert');\n",
              "        buttonEl.style.display =\n",
              "          google.colab.kernel.accessAllowed ? 'block' : 'none';\n",
              "\n",
              "        async function convertToInteractive(key) {\n",
              "          const element = document.querySelector('#df-4b246d45-6b1a-422d-86bc-11f9cd74a239');\n",
              "          const dataTable =\n",
              "            await google.colab.kernel.invokeFunction('convertToInteractive',\n",
              "                                                     [key], {});\n",
              "          if (!dataTable) return;\n",
              "\n",
              "          const docLinkHtml = 'Like what you see? Visit the ' +\n",
              "            '<a target=\"_blank\" href=https://colab.research.google.com/notebooks/data_table.ipynb>data table notebook</a>'\n",
              "            + ' to learn more about interactive tables.';\n",
              "          element.innerHTML = '';\n",
              "          dataTable['output_type'] = 'display_data';\n",
              "          await google.colab.output.renderOutput(dataTable, element);\n",
              "          const docLink = document.createElement('div');\n",
              "          docLink.innerHTML = docLinkHtml;\n",
              "          element.appendChild(docLink);\n",
              "        }\n",
              "      </script>\n",
              "    </div>\n",
              "  </div>\n",
              "  "
            ]
          },
          "metadata": {},
          "execution_count": 234
        }
      ]
    },
    {
      "cell_type": "code",
      "source": [
        "# Use 9am Sensor Signals as Features to Predict Humidity at 3pm\n",
        "morning_features = ['air_pressure_9am','air_temp_9am','avg_wind_direction_9am','avg_wind_speed_9am',\n",
        "        'max_wind_direction_9am','max_wind_speed_9am','rain_accumulation_9am',\n",
        "        'rain_duration_9am']"
      ],
      "metadata": {
        "id": "sTlu9r-GVXuz"
      },
      "execution_count": null,
      "outputs": []
    },
    {
      "cell_type": "code",
      "source": [
        "X = clean_data[morning_features].copy()"
      ],
      "metadata": {
        "id": "3JgzW2bCVf8a"
      },
      "execution_count": null,
      "outputs": []
    },
    {
      "cell_type": "code",
      "source": [
        "X.columns\n"
      ],
      "metadata": {
        "colab": {
          "base_uri": "https://localhost:8080/"
        },
        "id": "nY9dJ6ePVjUA",
        "outputId": "93b89734-c899-4b3b-817a-7bfde97b02af"
      },
      "execution_count": null,
      "outputs": [
        {
          "output_type": "execute_result",
          "data": {
            "text/plain": [
              "Index(['air_pressure_9am', 'air_temp_9am', 'avg_wind_direction_9am',\n",
              "       'avg_wind_speed_9am', 'max_wind_direction_9am', 'max_wind_speed_9am',\n",
              "       'rain_accumulation_9am', 'rain_duration_9am'],\n",
              "      dtype='object')"
            ]
          },
          "metadata": {},
          "execution_count": 237
        }
      ]
    },
    {
      "cell_type": "code",
      "source": [
        "y.columns"
      ],
      "metadata": {
        "colab": {
          "base_uri": "https://localhost:8080/"
        },
        "id": "2Y-4DopZVsYL",
        "outputId": "ed910649-b97d-4920-f1c1-b1f9ab872098"
      },
      "execution_count": null,
      "outputs": [
        {
          "output_type": "execute_result",
          "data": {
            "text/plain": [
              "Index(['high_humidity_label'], dtype='object')"
            ]
          },
          "metadata": {},
          "execution_count": 238
        }
      ]
    },
    {
      "cell_type": "markdown",
      "source": [
        "Perform Test, Train & Split"
      ],
      "metadata": {
        "id": "DkLUt1GeVwy0"
      }
    },
    {
      "cell_type": "code",
      "source": [
        "X_train, X_test, y_train, y_test = train_test_split(X, y, test_size=0.30, random_state=324)"
      ],
      "metadata": {
        "id": "_WDsgRswV0Jb"
      },
      "execution_count": null,
      "outputs": []
    },
    {
      "cell_type": "code",
      "source": [
        "humidity_classifier = DecisionTreeClassifier(max_leaf_nodes=10, random_state=0)\n",
        "humidity_classifier.fit(X_train, y_train)"
      ],
      "metadata": {
        "colab": {
          "base_uri": "https://localhost:8080/",
          "height": 75
        },
        "id": "Du0z3OTnV0Ny",
        "outputId": "5a4e2ddc-8c0e-418c-a0a1-51ad1c785772"
      },
      "execution_count": null,
      "outputs": [
        {
          "output_type": "execute_result",
          "data": {
            "text/plain": [
              "DecisionTreeClassifier(max_leaf_nodes=10, random_state=0)"
            ],
            "text/html": [
              "<style>#sk-container-id-9 {color: black;background-color: white;}#sk-container-id-9 pre{padding: 0;}#sk-container-id-9 div.sk-toggleable {background-color: white;}#sk-container-id-9 label.sk-toggleable__label {cursor: pointer;display: block;width: 100%;margin-bottom: 0;padding: 0.3em;box-sizing: border-box;text-align: center;}#sk-container-id-9 label.sk-toggleable__label-arrow:before {content: \"▸\";float: left;margin-right: 0.25em;color: #696969;}#sk-container-id-9 label.sk-toggleable__label-arrow:hover:before {color: black;}#sk-container-id-9 div.sk-estimator:hover label.sk-toggleable__label-arrow:before {color: black;}#sk-container-id-9 div.sk-toggleable__content {max-height: 0;max-width: 0;overflow: hidden;text-align: left;background-color: #f0f8ff;}#sk-container-id-9 div.sk-toggleable__content pre {margin: 0.2em;color: black;border-radius: 0.25em;background-color: #f0f8ff;}#sk-container-id-9 input.sk-toggleable__control:checked~div.sk-toggleable__content {max-height: 200px;max-width: 100%;overflow: auto;}#sk-container-id-9 input.sk-toggleable__control:checked~label.sk-toggleable__label-arrow:before {content: \"▾\";}#sk-container-id-9 div.sk-estimator input.sk-toggleable__control:checked~label.sk-toggleable__label {background-color: #d4ebff;}#sk-container-id-9 div.sk-label input.sk-toggleable__control:checked~label.sk-toggleable__label {background-color: #d4ebff;}#sk-container-id-9 input.sk-hidden--visually {border: 0;clip: rect(1px 1px 1px 1px);clip: rect(1px, 1px, 1px, 1px);height: 1px;margin: -1px;overflow: hidden;padding: 0;position: absolute;width: 1px;}#sk-container-id-9 div.sk-estimator {font-family: monospace;background-color: #f0f8ff;border: 1px dotted black;border-radius: 0.25em;box-sizing: border-box;margin-bottom: 0.5em;}#sk-container-id-9 div.sk-estimator:hover {background-color: #d4ebff;}#sk-container-id-9 div.sk-parallel-item::after {content: \"\";width: 100%;border-bottom: 1px solid gray;flex-grow: 1;}#sk-container-id-9 div.sk-label:hover label.sk-toggleable__label {background-color: #d4ebff;}#sk-container-id-9 div.sk-serial::before {content: \"\";position: absolute;border-left: 1px solid gray;box-sizing: border-box;top: 0;bottom: 0;left: 50%;z-index: 0;}#sk-container-id-9 div.sk-serial {display: flex;flex-direction: column;align-items: center;background-color: white;padding-right: 0.2em;padding-left: 0.2em;position: relative;}#sk-container-id-9 div.sk-item {position: relative;z-index: 1;}#sk-container-id-9 div.sk-parallel {display: flex;align-items: stretch;justify-content: center;background-color: white;position: relative;}#sk-container-id-9 div.sk-item::before, #sk-container-id-9 div.sk-parallel-item::before {content: \"\";position: absolute;border-left: 1px solid gray;box-sizing: border-box;top: 0;bottom: 0;left: 50%;z-index: -1;}#sk-container-id-9 div.sk-parallel-item {display: flex;flex-direction: column;z-index: 1;position: relative;background-color: white;}#sk-container-id-9 div.sk-parallel-item:first-child::after {align-self: flex-end;width: 50%;}#sk-container-id-9 div.sk-parallel-item:last-child::after {align-self: flex-start;width: 50%;}#sk-container-id-9 div.sk-parallel-item:only-child::after {width: 0;}#sk-container-id-9 div.sk-dashed-wrapped {border: 1px dashed gray;margin: 0 0.4em 0.5em 0.4em;box-sizing: border-box;padding-bottom: 0.4em;background-color: white;}#sk-container-id-9 div.sk-label label {font-family: monospace;font-weight: bold;display: inline-block;line-height: 1.2em;}#sk-container-id-9 div.sk-label-container {text-align: center;}#sk-container-id-9 div.sk-container {/* jupyter's `normalize.less` sets `[hidden] { display: none; }` but bootstrap.min.css set `[hidden] { display: none !important; }` so we also need the `!important` here to be able to override the default hidden behavior on the sphinx rendered scikit-learn.org. See: https://github.com/scikit-learn/scikit-learn/issues/21755 */display: inline-block !important;position: relative;}#sk-container-id-9 div.sk-text-repr-fallback {display: none;}</style><div id=\"sk-container-id-9\" class=\"sk-top-container\"><div class=\"sk-text-repr-fallback\"><pre>DecisionTreeClassifier(max_leaf_nodes=10, random_state=0)</pre><b>In a Jupyter environment, please rerun this cell to show the HTML representation or trust the notebook. <br />On GitHub, the HTML representation is unable to render, please try loading this page with nbviewer.org.</b></div><div class=\"sk-container\" hidden><div class=\"sk-item\"><div class=\"sk-estimator sk-toggleable\"><input class=\"sk-toggleable__control sk-hidden--visually\" id=\"sk-estimator-id-9\" type=\"checkbox\" checked><label for=\"sk-estimator-id-9\" class=\"sk-toggleable__label sk-toggleable__label-arrow\">DecisionTreeClassifier</label><div class=\"sk-toggleable__content\"><pre>DecisionTreeClassifier(max_leaf_nodes=10, random_state=0)</pre></div></div></div></div></div>"
            ]
          },
          "metadata": {},
          "execution_count": 240
        }
      ]
    },
    {
      "cell_type": "code",
      "source": [
        "plt.figure(figsize=(5, 5))\n",
        "tree.plot_tree(humidity_classifier, filled=True)"
      ],
      "metadata": {
        "colab": {
          "base_uri": "https://localhost:8080/",
          "height": 752
        },
        "id": "hzsZQSxBR8dL",
        "outputId": "675e2821-8c04-4a03-cec0-a8e174df53e7"
      },
      "execution_count": null,
      "outputs": [
        {
          "output_type": "execute_result",
          "data": {
            "text/plain": [
              "[Text(0.5294117647058824, 0.9, 'x[0] <= 919.404\\ngini = 0.5\\nsamples = 744\\nvalue = [376, 368]'),\n",
              " Text(0.29411764705882354, 0.7, 'x[1] <= 68.837\\ngini = 0.418\\nsamples = 413\\nvalue = [123, 290]'),\n",
              " Text(0.17647058823529413, 0.5, 'x[2] <= 90.083\\ngini = 0.229\\nsamples = 212\\nvalue = [28, 184]'),\n",
              " Text(0.11764705882352941, 0.3, 'x[5] <= 5.279\\ngini = 0.498\\nsamples = 34\\nvalue = [16, 18]'),\n",
              " Text(0.058823529411764705, 0.1, 'gini = 0.0\\nsamples = 11\\nvalue = [0, 11]'),\n",
              " Text(0.17647058823529413, 0.1, 'gini = 0.423\\nsamples = 23\\nvalue = [16, 7]'),\n",
              " Text(0.23529411764705882, 0.3, 'gini = 0.126\\nsamples = 178\\nvalue = [12, 166]'),\n",
              " Text(0.4117647058823529, 0.5, 'x[4] <= 146.643\\ngini = 0.499\\nsamples = 201\\nvalue = [95, 106]'),\n",
              " Text(0.35294117647058826, 0.3, 'gini = 0.469\\nsamples = 85\\nvalue = [53, 32]'),\n",
              " Text(0.47058823529411764, 0.3, 'gini = 0.462\\nsamples = 116\\nvalue = [42, 74]'),\n",
              " Text(0.7647058823529411, 0.7, 'x[1] <= 55.571\\ngini = 0.36\\nsamples = 331\\nvalue = [253, 78]'),\n",
              " Text(0.6470588235294118, 0.5, 'x[2] <= 54.212\\ngini = 0.481\\nsamples = 62\\nvalue = [25, 37]'),\n",
              " Text(0.5882352941176471, 0.3, 'gini = 0.18\\nsamples = 20\\nvalue = [18, 2]'),\n",
              " Text(0.7058823529411765, 0.3, 'gini = 0.278\\nsamples = 42\\nvalue = [7, 35]'),\n",
              " Text(0.8823529411764706, 0.5, 'x[5] <= 10.77\\ngini = 0.258\\nsamples = 269\\nvalue = [228, 41]'),\n",
              " Text(0.8235294117647058, 0.3, 'x[1] <= 65.057\\ngini = 0.346\\nsamples = 180\\nvalue = [140, 40]'),\n",
              " Text(0.7647058823529411, 0.1, 'gini = 0.491\\nsamples = 60\\nvalue = [34, 26]'),\n",
              " Text(0.8823529411764706, 0.1, 'gini = 0.206\\nsamples = 120\\nvalue = [106, 14]'),\n",
              " Text(0.9411764705882353, 0.3, 'gini = 0.022\\nsamples = 89\\nvalue = [88, 1]')]"
            ]
          },
          "metadata": {},
          "execution_count": 241
        },
        {
          "output_type": "display_data",
          "data": {
            "text/plain": [
              "<Figure size 500x500 with 1 Axes>"
            ],
            "image/png": "[encoded data removed]"
          },
          "metadata": {}
        }
      ]
    },
    {
      "cell_type": "code",
      "source": [
        "type(humidity_classifier)"
      ],
      "metadata": {
        "colab": {
          "base_uri": "https://localhost:8080/"
        },
        "id": "RDItC5GTV8wh",
        "outputId": "a301c881-030b-4890-ff30-1fbdf36008ee"
      },
      "execution_count": null,
      "outputs": [
        {
          "output_type": "execute_result",
          "data": {
            "text/plain": [
              "sklearn.tree._classes.DecisionTreeClassifier"
            ]
          },
          "metadata": {},
          "execution_count": 242
        }
      ]
    },
    {
      "cell_type": "code",
      "source": [
        "predictions = humidity_classifier.predict(X_test)\n",
        "predictions[:10]"
      ],
      "metadata": {
        "colab": {
          "base_uri": "https://localhost:8080/"
        },
        "id": "SeFic8LTWAZz",
        "outputId": "a70729a1-49de-4c5b-8e88-7e5af952332a"
      },
      "execution_count": null,
      "outputs": [
        {
          "output_type": "execute_result",
          "data": {
            "text/plain": [
              "array([0, 0, 1, 1, 1, 1, 0, 0, 0, 1])"
            ]
          },
          "metadata": {},
          "execution_count": 243
        }
      ]
    },
    {
      "cell_type": "code",
      "source": [
        "y_test['high_humidity_label'][:10]"
      ],
      "metadata": {
        "colab": {
          "base_uri": "https://localhost:8080/"
        },
        "id": "LgfuHcY-WFeb",
        "outputId": "08ac36d5-7322-4215-d690-8b4331364f44"
      },
      "execution_count": null,
      "outputs": [
        {
          "output_type": "execute_result",
          "data": {
            "text/plain": [
              "456     0\n",
              "845     0\n",
              "693     1\n",
              "259     1\n",
              "723     1\n",
              "224     1\n",
              "300     1\n",
              "442     0\n",
              "585     1\n",
              "1057    1\n",
              "Name: high_humidity_label, dtype: int64"
            ]
          },
          "metadata": {},
          "execution_count": 244
        }
      ]
    },
    {
      "cell_type": "code",
      "source": [
        "accuracy_score(y_true = y_test, y_pred = predictions)"
      ],
      "metadata": {
        "colab": {
          "base_uri": "https://localhost:8080/"
        },
        "id": "RgUMD3FEWKqk",
        "outputId": "24ed97a3-14e8-4c6d-c129-4075c33c98fb"
      },
      "execution_count": null,
      "outputs": [
        {
          "output_type": "execute_result",
          "data": {
            "text/plain": [
              "0.825"
            ]
          },
          "metadata": {},
          "execution_count": 245
        }
      ]
    }
  ]
}